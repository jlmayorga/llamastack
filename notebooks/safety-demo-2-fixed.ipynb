{
 "cells": [
  {
   "cell_type": "markdown",
   "id": "16e21cc06d39f65a",
   "metadata": {},
   "source": [
    "# 🛡️ Engineering Trustworthy AI: The Decoupled Shield Pattern\n",
    "\n",
    "**Red Hat Summit Connect 2025**"
   ]
  },
  {
   "cell_type": "code",
   "execution_count": 1,
   "id": "be63b0ec0287a230",
   "metadata": {
    "ExecuteTime": {
     "end_time": "2025-10-07T16:13:52.704899Z",
     "start_time": "2025-10-07T16:13:52.563494Z"
    }
   },
   "outputs": [
    {
     "name": "stdout",
     "output_type": "stream",
     "text": [
      "\n",
      "\u001b[1m[\u001b[0m\u001b[34;49mnotice\u001b[0m\u001b[1;39;49m]\u001b[0m\u001b[39;49m A new release of pip is available: \u001b[0m\u001b[31;49m24.2\u001b[0m\u001b[39;49m -> \u001b[0m\u001b[32;49m25.2\u001b[0m\n",
      "\u001b[1m[\u001b[0m\u001b[34;49mnotice\u001b[0m\u001b[1;39;49m]\u001b[0m\u001b[39;49m To update, run: \u001b[0m\u001b[32;49mpip install --upgrade pip\u001b[0m\n",
      "✅ Environment ready\n"
     ]
    }
   ],
   "source": [
    "# Install and import dependencies\n",
    "!pip install llama-stack-client pandas ipywidgets -q\n",
    "\n",
    "from llama_stack_client import LlamaStackClient\n",
    "from llama_stack_client.lib.agents.agent import Agent\n",
    "from uuid import uuid4\n",
    "import logging\n",
    "\n",
    "# Import our demo helpers\n",
    "from shield_demo_helpers import (\n",
    "    ShieldMetrics,\n",
    "    show_hero_banner,\n",
    "    show_attack_surface,\n",
    "    show_result_card,\n",
    "    show_comparison_matrix,\n",
    "    show_compliance_savings,\n",
    "    create_interactive_tester,\n",
    "    TEST_PROMPTS,\n",
    "    SHIELD_CONFIG\n",
    ")\n",
    "\n",
    "# Suppress verbose logging\n",
    "logging.getLogger(\"httpx\").setLevel(logging.WARNING)\n",
    "logging.getLogger(\"llama_stack_client\").setLevel(logging.WARNING)\n",
    "\n",
    "print(\"✅ Environment ready\")"
   ]
  },
  {
   "cell_type": "code",
   "execution_count": 2,
   "id": "d74eb213912e15c8",
   "metadata": {},
   "outputs": [
    {
     "data": {
      "text/html": [
       "\n",
       "    <div style='background: linear-gradient(135deg, #667eea 0%, #764ba2 100%); \n",
       "                color: white; padding: 40px; border-radius: 15px; text-align: center;\n",
       "                box-shadow: 0 10px 25px rgba(0,0,0,0.2); margin: 20px 0;'>\n",
       "        <h1 style='margin: 0; font-size: 48px;'>🛡️ Engineering Trustworthy AI</h1>\n",
       "        <p style='font-size: 24px; margin-top: 15px; opacity: 0.95;'>The Decoupled Shield Pattern</p>\n",
       "        <p style='font-size: 18px; margin-top: 10px; opacity: 0.9;'>TrustyAI + LlamaStack on OpenShift AI</p>\n",
       "    </div>\n",
       "    "
      ],
      "text/plain": [
       "<IPython.core.display.HTML object>"
      ]
     },
     "metadata": {},
     "output_type": "display_data"
    }
   ],
   "source": [
    "# Show hero banner\n",
    "show_hero_banner()"
   ]
  },
  {
   "cell_type": "markdown",
   "id": "25a1a3745ae543b3",
   "metadata": {},
   "source": [
    "## Configuration"
   ]
  },
  {
   "cell_type": "code",
   "execution_count": 3,
   "id": "35fdc51a2b68cb84",
   "metadata": {},
   "outputs": [
    {
     "name": "stdout",
     "output_type": "stream",
     "text": [
      "✅ Connected to http://llamastack-trustyai-fms-service.summit-connect-2025.svc.cluster.local:8321\n",
      "📊 Model: tinyllama-1b\n"
     ]
    }
   ],
   "source": [
    "# Configure your deployment\n",
    "LLAMASTACK_URL = \"http://llamastack-trustyai-fms-service.summit-connect-2025.svc.cluster.local:8321\"\n",
    "MODEL_NAME = \"tinyllama-1b\"\n",
    "\n",
    "# Connect to LlamaStack\n",
    "client = LlamaStackClient(base_url=LLAMASTACK_URL)\n",
    "metrics = ShieldMetrics()\n",
    "\n",
    "print(f\"✅ Connected to {LLAMASTACK_URL}\")\n",
    "print(f\"📊 Model: {MODEL_NAME}\")"
   ]
  },
  {
   "cell_type": "markdown",
   "id": "8205c816e0edf239",
   "metadata": {},
   "source": [
    "## Part 1: The Trust Gap - Unprotected Agent"
   ]
  },
  {
   "cell_type": "code",
   "execution_count": 4,
   "id": "74bc28805b2ced9",
   "metadata": {},
   "outputs": [
    {
     "data": {
      "text/html": [
       "\n",
       "    <div style='font-family: monospace; margin: 20px 0;'>\n",
       "    <div style='display: flex; align-items: center; margin: 10px 0;'>\n",
       "        <div style='width: 120px; font-weight: bold; font-size: 14px;'>User Input</div>\n",
       "        <div style='flex: 1; height: 3px; background: #ddd;'></div>\n",
       "        <div style='width: 80px; text-align: center; padding: 8px; background: #f44336; color: white; border-radius: 5px; margin: 0 10px; font-size: 12px;'>❌ NONE</div>\n",
       "        <div style='flex: 1; height: 3px; background: #ddd;'></div>\n",
       "        <div style='width: 100px; text-align: center; padding: 10px; background: #e3f2fd; border: 2px solid #2196f3; border-radius: 5px; font-size: 14px;'>🤖 Model</div>\n",
       "        <div style='flex: 1; height: 3px; background: #ddd;'></div>\n",
       "        <div style='width: 80px; text-align: center; padding: 8px; background: #f44336; color: white; border-radius: 5px; margin: 0 10px; font-size: 12px;'>❌ NONE</div>\n",
       "        <div style='flex: 1; height: 3px; background: #ddd;'></div>\n",
       "        <div style='width: 120px; text-align: right; font-weight: bold; font-size: 14px;'>Response</div>\n",
       "    </div>\n",
       "    <div style='margin-top: 15px; padding: 10px; background: #f5f5f5; border-radius: 5px;'><strong>Current Config:</strong> Unprotected Agent</div>\n",
       "    </div>\n",
       "    "
      ],
      "text/plain": [
       "<IPython.core.display.HTML object>"
      ]
     },
     "metadata": {},
     "output_type": "display_data"
    }
   ],
   "source": [
    "show_attack_surface({'name': 'Unprotected Agent', 'input': False, 'output': False})"
   ]
  },
  {
   "cell_type": "code",
   "execution_count": 8,
   "id": "b1036e3b4ed28866",
   "metadata": {
    "scrolled": true
   },
   "outputs": [
    {
     "name": "stdout",
     "output_type": "stream",
     "text": [
      "📨 User: Hi, I'm having issues. My email is jane@company.com, SSN is 987-65-4321, and card 5105-1051-0510-5100....\n",
      "\n"
     ]
    },
    {
     "data": {
      "text/html": [
       "\n",
       "    <div style='background: #fff; border-left: 4px solid #f44336; \n",
       "                padding: 15px; margin: 10px 0; border-radius: 4px;'>\n",
       "        <div style='color: #c62828; font-weight: bold; font-size: 18px;'>\n",
       "            ❌ PROCESSED WITHOUT VALIDATION\n",
       "        </div>\n",
       "        <div style='margin-top: 8px; color: #555;'>To send your successful account opening email, you must have an email address and a SSN/SSN card being mailed to you. Check the details from the packages you've received from the direct mail campaign. \n",
       "\n",
       "Here are some additional steps to ensure all information provided (email, SSN, card number, and address) is correct:\n",
       "\n",
       "1. Make sure the email address is valid and provided in the campaign.\n",
       "2. Verify the SSN/SSN card number (if applicable) is properly entered.\n",
       "3. Check the address on the mailing to...</div>\n",
       "        <div style='margin-top: 10px; color: #666; font-size: 14px;'>⚠️ PII was processed without any checks!</div>\n",
       "    </div>\n",
       "    "
      ],
      "text/plain": [
       "<IPython.core.display.HTML object>"
      ]
     },
     "metadata": {},
     "output_type": "display_data"
    }
   ],
   "source": [
    "# Demo the trust gap\n",
    "critical_test = TEST_PROMPTS[\"pii_multiple\"]\n",
    "print(f\"📨 User: {critical_test['prompt'][:200]}...\\n\")\n",
    "\n",
    "response = client.chat.completions.create(\n",
    "    model=MODEL_NAME,\n",
    "    messages=[{\"role\": \"user\", \"content\": critical_test['prompt']}],\n",
    "    stream=False\n",
    ")\n",
    "\n",
    "show_result_card(\n",
    "    \"PROCESSED WITHOUT VALIDATION\",\n",
    "    \"error\",\n",
    "    response.choices[0].message.content[:500] + \"...\",\n",
    "    \"⚠️ PII was processed without any checks!\"\n",
    ")"
   ]
  },
  {
   "cell_type": "markdown",
   "id": "3943ef791e9c8bd1",
   "metadata": {},
   "source": [
    "## Part 2: Register TrustyAI Shields"
   ]
  },
  {
   "cell_type": "code",
   "execution_count": 9,
   "id": "6a52d706085ce90f",
   "metadata": {},
   "outputs": [
    {
     "data": {
      "text/html": [
       "\n",
       "    <div style='background: #e8f5e9; border-left: 4px solid #4caf50; \n",
       "                padding: 15px; margin: 10px 0; border-radius: 4px;'>\n",
       "        <div style='color: #2e7d32; font-weight: bold; font-size: 18px;'>\n",
       "            ✅ Shield Registered\n",
       "        </div>\n",
       "        <div style='margin-top: 8px; color: #555;'>TrustyAI PII shield is active</div>\n",
       "        \n",
       "    </div>\n",
       "    "
      ],
      "text/plain": [
       "<IPython.core.display.HTML object>"
      ]
     },
     "metadata": {},
     "output_type": "display_data"
    }
   ],
   "source": [
    "# Register the shield\n",
    "try:\n",
    "    client.shields.register(**SHIELD_CONFIG)\n",
    "    show_result_card(\"Shield Registered\", \"allowed\", \"TrustyAI PII shield is active\")\n",
    "except Exception as e:\n",
    "    if \"already exists\" not in str(e).lower():\n",
    "        raise"
   ]
  },
  {
   "cell_type": "markdown",
   "id": "2b2b7a0e9d68cc6d",
   "metadata": {},
   "source": [
    "## Part 3: Input Shields"
   ]
  },
  {
   "cell_type": "code",
   "execution_count": 10,
   "id": "67ac456ab2301efa",
   "metadata": {},
   "outputs": [
    {
     "data": {
      "text/html": [
       "\n",
       "    <div style='font-family: monospace; margin: 20px 0;'>\n",
       "    <div style='display: flex; align-items: center; margin: 10px 0;'>\n",
       "        <div style='width: 120px; font-weight: bold; font-size: 14px;'>User Input</div>\n",
       "        <div style='flex: 1; height: 3px; background: #ddd;'></div>\n",
       "        <div style='width: 80px; text-align: center; padding: 8px; background: #4caf50; color: white; border-radius: 5px; margin: 0 10px; font-size: 12px;'>🛡️ IN</div>\n",
       "        <div style='flex: 1; height: 3px; background: #ddd;'></div>\n",
       "        <div style='width: 100px; text-align: center; padding: 10px; background: #e3f2fd; border: 2px solid #2196f3; border-radius: 5px; font-size: 14px;'>🤖 Model</div>\n",
       "        <div style='flex: 1; height: 3px; background: #ddd;'></div>\n",
       "        <div style='width: 80px; text-align: center; padding: 8px; background: #f44336; color: white; border-radius: 5px; margin: 0 10px; font-size: 12px;'>❌ NONE</div>\n",
       "        <div style='flex: 1; height: 3px; background: #ddd;'></div>\n",
       "        <div style='width: 120px; text-align: right; font-weight: bold; font-size: 14px;'>Response</div>\n",
       "    </div>\n",
       "    <div style='margin-top: 15px; padding: 10px; background: #f5f5f5; border-radius: 5px;'><strong>Current Config:</strong> Input Shield Only</div>\n",
       "    </div>\n",
       "    "
      ],
      "text/plain": [
       "<IPython.core.display.HTML object>"
      ]
     },
     "metadata": {},
     "output_type": "display_data"
    },
    {
     "name": "stdout",
     "output_type": "stream",
     "text": [
      "🛡️ Agent created with input shield\n"
     ]
    }
   ],
   "source": [
    "show_attack_surface({'name': 'Input Shield Only', 'input': True, 'output': False})\n",
    "\n",
    "agent_input = Agent(\n",
    "    client,\n",
    "    model=MODEL_NAME,\n",
    "    instructions='You are a helpful customer service agent.',\n",
    "    input_shields=['pii_shield'],\n",
    "    output_shields=[],\n",
    "    enable_session_persistence=False\n",
    ")\n",
    "\n",
    "print(\"🛡️ Agent created with input shield\")"
   ]
  },
  {
   "cell_type": "code",
   "execution_count": 11,
   "id": "bb26954811c76417",
   "metadata": {},
   "outputs": [
    {
     "data": {
      "text/html": [
       "\n",
       "    <div style='background: #ffebee; border-left: 4px solid #f44336; \n",
       "                padding: 15px; margin: 10px 0; border-radius: 4px;'>\n",
       "        <div style='color: #c62828; font-weight: bold; font-size: 18px;'>\n",
       "            🛡️ BLOCKED BY INPUT SHIELD\n",
       "        </div>\n",
       "        <div style='margin-top: 8px; color: #555;'>Content violation detected by shield pii_shield (confidence: 1.00, 1/2 processed messages violated)</div>\n",
       "        \n",
       "    </div>\n",
       "    "
      ],
      "text/plain": [
       "<IPython.core.display.HTML object>"
      ]
     },
     "metadata": {},
     "output_type": "display_data"
    }
   ],
   "source": [
    "# Test input shield\n",
    "session = agent_input.create_session(f\"session-{uuid4()}\")\n",
    "response = agent_input.create_turn(\n",
    "    messages=[{\"role\": \"user\", \"content\": TEST_PROMPTS[\"pii_multiple\"][\"prompt\"]}],\n",
    "    session_id=session,\n",
    "    stream=False\n",
    ")\n",
    "\n",
    "# Show result\n",
    "for step in response.steps:\n",
    "    if step.step_type == 'shield_call' and step.violation:\n",
    "        show_result_card(\"BLOCKED BY INPUT SHIELD\", \"blocked\", step.violation.user_message)\n",
    "        metrics.record(blocked=True)\n",
    "        break"
   ]
  },
  {
   "cell_type": "markdown",
   "id": "350431475ff8427b",
   "metadata": {},
   "source": [
    "## Part 4: Output Shields"
   ]
  },
  {
   "cell_type": "code",
   "execution_count": 12,
   "id": "2ff18067e938c974",
   "metadata": {},
   "outputs": [
    {
     "data": {
      "text/html": [
       "\n",
       "    <div style='font-family: monospace; margin: 20px 0;'>\n",
       "    <div style='display: flex; align-items: center; margin: 10px 0;'>\n",
       "        <div style='width: 120px; font-weight: bold; font-size: 14px;'>User Input</div>\n",
       "        <div style='flex: 1; height: 3px; background: #ddd;'></div>\n",
       "        <div style='width: 80px; text-align: center; padding: 8px; background: #f44336; color: white; border-radius: 5px; margin: 0 10px; font-size: 12px;'>❌ NONE</div>\n",
       "        <div style='flex: 1; height: 3px; background: #ddd;'></div>\n",
       "        <div style='width: 100px; text-align: center; padding: 10px; background: #e3f2fd; border: 2px solid #2196f3; border-radius: 5px; font-size: 14px;'>🤖 Model</div>\n",
       "        <div style='flex: 1; height: 3px; background: #ddd;'></div>\n",
       "        <div style='width: 80px; text-align: center; padding: 8px; background: #4caf50; color: white; border-radius: 5px; margin: 0 10px; font-size: 12px;'>🛡️ OUT</div>\n",
       "        <div style='flex: 1; height: 3px; background: #ddd;'></div>\n",
       "        <div style='width: 120px; text-align: right; font-weight: bold; font-size: 14px;'>Response</div>\n",
       "    </div>\n",
       "    <div style='margin-top: 15px; padding: 10px; background: #f5f5f5; border-radius: 5px;'><strong>Current Config:</strong> Output Shield Only</div>\n",
       "    </div>\n",
       "    "
      ],
      "text/plain": [
       "<IPython.core.display.HTML object>"
      ]
     },
     "metadata": {},
     "output_type": "display_data"
    },
    {
     "name": "stdout",
     "output_type": "stream",
     "text": [
      "🛡️ Agent created with output shield\n"
     ]
    }
   ],
   "source": [
    "show_attack_surface({'name': 'Output Shield Only', 'input': False, 'output': True})\n",
    "\n",
    "agent_output = Agent(\n",
    "    client,\n",
    "    model=MODEL_NAME,\n",
    "    instructions='You are a helpful customer service agent.',\n",
    "    input_shields=[],\n",
    "    output_shields=['pii_shield'],\n",
    "    enable_session_persistence=False\n",
    ")\n",
    "\n",
    "print(\"🛡️ Agent created with output shield\")"
   ]
  },
  {
   "cell_type": "markdown",
   "id": "5d57ec58f511c7de",
   "metadata": {},
   "source": [
    "## Part 5: Defense-in-Depth - Both Shields"
   ]
  },
  {
   "cell_type": "code",
   "execution_count": 13,
   "id": "692fd79d866da051",
   "metadata": {},
   "outputs": [
    {
     "data": {
      "text/html": [
       "\n",
       "    <div style='font-family: monospace; margin: 20px 0;'>\n",
       "    <div style='display: flex; align-items: center; margin: 10px 0;'>\n",
       "        <div style='width: 120px; font-weight: bold; font-size: 14px;'>User Input</div>\n",
       "        <div style='flex: 1; height: 3px; background: #ddd;'></div>\n",
       "        <div style='width: 80px; text-align: center; padding: 8px; background: #4caf50; color: white; border-radius: 5px; margin: 0 10px; font-size: 12px;'>🛡️ IN</div>\n",
       "        <div style='flex: 1; height: 3px; background: #ddd;'></div>\n",
       "        <div style='width: 100px; text-align: center; padding: 10px; background: #e3f2fd; border: 2px solid #2196f3; border-radius: 5px; font-size: 14px;'>🤖 Model</div>\n",
       "        <div style='flex: 1; height: 3px; background: #ddd;'></div>\n",
       "        <div style='width: 80px; text-align: center; padding: 8px; background: #4caf50; color: white; border-radius: 5px; margin: 0 10px; font-size: 12px;'>🛡️ OUT</div>\n",
       "        <div style='flex: 1; height: 3px; background: #ddd;'></div>\n",
       "        <div style='width: 120px; text-align: right; font-weight: bold; font-size: 14px;'>Response</div>\n",
       "    </div>\n",
       "    <div style='margin-top: 15px; padding: 10px; background: #f5f5f5; border-radius: 5px;'><strong>Current Config:</strong> Both Shields (Recommended)</div>\n",
       "    </div>\n",
       "    "
      ],
      "text/plain": [
       "<IPython.core.display.HTML object>"
      ]
     },
     "metadata": {},
     "output_type": "display_data"
    },
    {
     "name": "stdout",
     "output_type": "stream",
     "text": [
      "🛡️🛡️ Agent created with maximum protection\n"
     ]
    }
   ],
   "source": [
    "show_attack_surface({'name': 'Both Shields (Recommended)', 'input': True, 'output': True})\n",
    "\n",
    "agent_both = Agent(\n",
    "    client,\n",
    "    model=MODEL_NAME,\n",
    "    instructions='You are a helpful customer service agent.',\n",
    "    input_shields=['pii_shield'],\n",
    "    output_shields=['pii_shield'],\n",
    "    enable_session_persistence=False\n",
    ")\n",
    "\n",
    "print(\"🛡️🛡️ Agent created with maximum protection\")"
   ]
  },
  {
   "cell_type": "markdown",
   "id": "d45eda5670acb7b4",
   "metadata": {},
   "source": [
    "## Part 6: The Complete Picture"
   ]
  },
  {
   "cell_type": "code",
   "execution_count": 14,
   "id": "56959338a6bf692b",
   "metadata": {},
   "outputs": [
    {
     "data": {
      "text/html": [
       "\n",
       "    <style>\n",
       "    .comparison-table { \n",
       "        width: 100%; \n",
       "        border-collapse: collapse; \n",
       "        margin: 20px 0; \n",
       "        box-shadow: 0 2px 8px rgba(0,0,0,0.1);\n",
       "        font-size: 14px;\n",
       "    }\n",
       "    .comparison-table th { \n",
       "        background: #2c3e50; \n",
       "        color: white; \n",
       "        padding: 15px; \n",
       "        text-align: left;\n",
       "    }\n",
       "    .comparison-table td { \n",
       "        padding: 12px 15px; \n",
       "        border-bottom: 1px solid #ddd;\n",
       "    }\n",
       "    .comparison-table tr:hover { background: #f5f5f5; }\n",
       "    .blocked { \n",
       "        background: #4caf50; \n",
       "        color: white; \n",
       "        padding: 5px 10px; \n",
       "        border-radius: 3px; \n",
       "        display: inline-block;\n",
       "        font-weight: bold;\n",
       "    }\n",
       "    .allowed { \n",
       "        background: #f44336; \n",
       "        color: white; \n",
       "        padding: 5px 10px; \n",
       "        border-radius: 3px; \n",
       "        display: inline-block;\n",
       "        font-weight: bold;\n",
       "    }\n",
       "    .partial {\n",
       "        background: #ff9800;\n",
       "        color: white;\n",
       "        padding: 5px 10px;\n",
       "        border-radius: 3px;\n",
       "        display: inline-block;\n",
       "        font-weight: bold;\n",
       "    }\n",
       "    .safe-allowed {\n",
       "        background: #4caf50;\n",
       "        color: white;\n",
       "        padding: 5px 10px;\n",
       "        border-radius: 3px;\n",
       "        display: inline-block;\n",
       "        font-weight: bold;\n",
       "    }\n",
       "    </style>\n",
       "    <table class=\"comparison-table\">\n",
       "    <thead>\n",
       "        <tr>\n",
       "            <th>Attack Scenario</th>\n",
       "            <th>No Shields</th>\n",
       "            <th>Input Only</th>\n",
       "            <th>Output Only</th>\n",
       "            <th>Both (Recommended)</th>\n",
       "        </tr>\n",
       "    </thead>\n",
       "    <tbody>\n",
       "    \n",
       "            <tr>\n",
       "                <td><strong>Email PII</strong><br><small style='color: #666;'>john@example.com</small></td>\n",
       "                <td><span class='allowed'>❌ EXPOSED</span></td>\n",
       "                <td><span class='blocked'>🛡️ Blocked</span></td>\n",
       "                <td><span class='partial'>⚠️ Partial</span></td>\n",
       "                <td><span class='blocked'>🛡️ Blocked</span></td>\n",
       "            </tr>\n",
       "            \n",
       "            <tr>\n",
       "                <td><strong>SSN</strong><br><small style='color: #666;'>123-45-6789</small></td>\n",
       "                <td><span class='allowed'>❌ EXPOSED</span></td>\n",
       "                <td><span class='blocked'>🛡️ Blocked</span></td>\n",
       "                <td><span class='partial'>⚠️ Partial</span></td>\n",
       "                <td><span class='blocked'>🛡️ Blocked</span></td>\n",
       "            </tr>\n",
       "            \n",
       "            <tr>\n",
       "                <td><strong>Credit Card</strong><br><small style='color: #666;'>4532-1234-5678-9010</small></td>\n",
       "                <td><span class='allowed'>❌ EXPOSED</span></td>\n",
       "                <td><span class='blocked'>🛡️ Blocked</span></td>\n",
       "                <td><span class='partial'>⚠️ Partial</span></td>\n",
       "                <td><span class='blocked'>🛡️ Blocked</span></td>\n",
       "            </tr>\n",
       "            \n",
       "            <tr>\n",
       "                <td><strong>Multiple PII</strong><br><small style='color: #666;'>email + SSN + card</small></td>\n",
       "                <td><span class='allowed'>❌ EXPOSED</span></td>\n",
       "                <td><span class='blocked'>🛡️ Blocked</span></td>\n",
       "                <td><span class='partial'>⚠️ Partial</span></td>\n",
       "                <td><span class='blocked'>🛡️ Blocked</span></td>\n",
       "            </tr>\n",
       "            \n",
       "            <tr>\n",
       "                <td><strong>Safe Query</strong><br><small style='color: #666;'>How do I reset password?</small></td>\n",
       "                <td><span class='safe-allowed'>✅ Allowed</span></td>\n",
       "                <td><span class='safe-allowed'>✅ Allowed</span></td>\n",
       "                <td><span class='safe-allowed'>✅ Allowed</span></td>\n",
       "                <td><span class='safe-allowed'>✅ Allowed</span></td>\n",
       "            </tr>\n",
       "            \n",
       "    </tbody>\n",
       "    </table>\n",
       "    <div style='margin-top: 20px; padding: 15px; background: #e3f2fd; border-left: 4px solid #2196f3; border-radius: 4px;'>\n",
       "        <strong>⚡ Key Insight:</strong> Defense-in-depth with both input and output shields provides complete protection while maintaining functionality for safe queries.\n",
       "    </div>\n",
       "    "
      ],
      "text/plain": [
       "<IPython.core.display.HTML object>"
      ]
     },
     "metadata": {},
     "output_type": "display_data"
    }
   ],
   "source": [
    "show_comparison_matrix()"
   ]
  },
  {
   "cell_type": "markdown",
   "id": "7b00b1c2a8c0bca4",
   "metadata": {},
   "source": [
    "## Part 7: Real-World Impact"
   ]
  },
  {
   "cell_type": "code",
   "execution_count": 15,
   "id": "fbab9ed7bee54b8f",
   "metadata": {},
   "outputs": [
    {
     "data": {
      "text/html": [
       "\n",
       "    <div style='background: #f8f9fa; padding: 25px; border-radius: 10px; margin: 20px 0;'>\n",
       "        <h3 style='color: #2c3e50; margin-top: 0;'>💰 Real-World Impact</h3>\n",
       "        <div style='display: grid; grid-template-columns: repeat(2, 1fr); gap: 20px;'>\n",
       "            <div style='background: white; padding: 20px; border-radius: 8px; border-left: 4px solid #e74c3c;'>\n",
       "                <div style='font-size: 32px; font-weight: bold; color: #e74c3c;'>$4.88M</div>\n",
       "                <div style='color: #666; margin-top: 5px;'>Average cost of a data breach (IBM 2024)</div>\n",
       "            </div>\n",
       "            <div style='background: white; padding: 20px; border-radius: 8px; border-left: 4px solid #27ae60;'>\n",
       "                <div style='font-size: 32px; font-weight: bold; color: #27ae60;'>2-3 weeks</div>\n",
       "                <div style='color: #666; margin-top: 5px;'>Development time saved per agent</div>\n",
       "            </div>\n",
       "            <div style='background: white; padding: 20px; border-radius: 8px; border-left: 4px solid #3498db;'>\n",
       "                <div style='font-size: 32px; font-weight: bold; color: #3498db;'>1 shield</div>\n",
       "                <div style='color: #666; margin-top: 5px;'>Protects unlimited agents</div>\n",
       "            </div>\n",
       "            <div style='background: white; padding: 20px; border-radius: 8px; border-left: 4px solid #9b59b6;'>\n",
       "                <div style='font-size: 32px; font-weight: bold; color: #9b59b6;'>Zero</div>\n",
       "                <div style='color: #666; margin-top: 5px;'>Code changes to update shields</div>\n",
       "            </div>\n",
       "        </div>\n",
       "    </div>\n",
       "    "
      ],
      "text/plain": [
       "<IPython.core.display.HTML object>"
      ]
     },
     "metadata": {},
     "output_type": "display_data"
    }
   ],
   "source": [
    "show_compliance_savings()"
   ]
  },
  {
   "cell_type": "markdown",
   "id": "3b6deb5bef28ba0c",
   "metadata": {},
   "source": [
    "## Part 8: Try It Yourself"
   ]
  },
  {
   "cell_type": "code",
   "execution_count": 16,
   "id": "da043dc8c0caf29",
   "metadata": {},
   "outputs": [
    {
     "data": {
      "text/html": [
       "<h3>🎮 Interactive Shield Tester</h3><p>Enter any message to see TrustyAI shields in action:</p>"
      ],
      "text/plain": [
       "<IPython.core.display.HTML object>"
      ]
     },
     "metadata": {},
     "output_type": "display_data"
    },
    {
     "data": {
      "application/vnd.jupyter.widget-view+json": {
       "model_id": "e5a33f52fa634f03bc9403b68c444aeb",
       "version_major": 2,
       "version_minor": 0
      },
      "text/plain": [
       "Textarea(value='', layout=Layout(height='80px', width='100%'), placeholder='Enter a test message (try includin…"
      ]
     },
     "metadata": {},
     "output_type": "display_data"
    },
    {
     "data": {
      "application/vnd.jupyter.widget-view+json": {
       "model_id": "21f535a1bca44c4da3e4a9e7af555b61",
       "version_major": 2,
       "version_minor": 0
      },
      "text/plain": [
       "Button(button_style='primary', description='🛡️ Test with Shield', layout=Layout(width='200px'), style=ButtonSt…"
      ]
     },
     "metadata": {},
     "output_type": "display_data"
    },
    {
     "data": {
      "application/vnd.jupyter.widget-view+json": {
       "model_id": "ac1deb08a9104fba9689a623578ad4ac",
       "version_major": 2,
       "version_minor": 0
      },
      "text/plain": [
       "Output()"
      ]
     },
     "metadata": {},
     "output_type": "display_data"
    }
   ],
   "source": [
    "create_interactive_tester(client)"
   ]
  },
  {
   "cell_type": "code",
   "execution_count": 17,
   "id": "76e8cddce6ecca3d",
   "metadata": {},
   "outputs": [
    {
     "data": {
      "text/html": [
       "\n",
       "        <div style='background: linear-gradient(135deg, #667eea 0%, #764ba2 100%); \n",
       "                    color: white; padding: 20px; border-radius: 10px; margin: 20px 0;\n",
       "                    box-shadow: 0 4px 6px rgba(0,0,0,0.1);'>\n",
       "            <h3 style='margin-top: 0; font-size: 24px;'>🛡️ Live Shield Performance</h3>\n",
       "            <div style='display: grid; grid-template-columns: repeat(3, 1fr); gap: 20px; margin-top: 15px;'>\n",
       "                <div style='text-align: center;'>\n",
       "                    <div style='font-size: 36px; font-weight: bold;'>1</div>\n",
       "                    <div style='opacity: 0.9;'>Total Attempts</div>\n",
       "                </div>\n",
       "                <div style='text-align: center;'>\n",
       "                    <div style='font-size: 36px; font-weight: bold; color: #4caf50;'>1</div>\n",
       "                    <div style='opacity: 0.9;'>🛡️ Blocked</div>\n",
       "                </div>\n",
       "                <div style='text-align: center;'>\n",
       "                    <div style='font-size: 36px; font-weight: bold;'>100%</div>\n",
       "                    <div style='opacity: 0.9;'>Block Rate</div>\n",
       "                </div>\n",
       "            </div>\n",
       "        </div>\n",
       "        "
      ],
      "text/plain": [
       "<IPython.core.display.HTML object>"
      ]
     },
     "metadata": {},
     "output_type": "display_data"
    }
   ],
   "source": [
    "# Final metrics\n",
    "metrics.display()"
   ]
  },
  {
   "cell_type": "code",
   "execution_count": null,
   "id": "06d03dbc-1b90-427f-b0da-77ac186889ff",
   "metadata": {},
   "outputs": [],
   "source": []
  }
 ],
 "metadata": {
  "kernelspec": {
   "display_name": "Python 3.12",
   "language": "python",
   "name": "python3"
  },
  "language_info": {
   "codemirror_mode": {
    "name": "ipython",
    "version": 3
   },
   "file_extension": ".py",
   "mimetype": "text/x-python",
   "name": "python",
   "nbconvert_exporter": "python",
   "pygments_lexer": "ipython3",
   "version": "3.12.9"
  }
 },
 "nbformat": 4,
 "nbformat_minor": 5
}
