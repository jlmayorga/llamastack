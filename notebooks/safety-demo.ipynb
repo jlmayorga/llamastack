{
  "cells": [
    {
      "cell_type": "markdown",
      "metadata": {},
      "source": "# 🛡️ Engineering Trustworthy AI: The Decoupled Shield Pattern\n\n**Red Hat Summit Connect 2025**",
      "id": "16e21cc06d39f65a"
    },
    {
      "cell_type": "code",
      "metadata": {
        "ExecuteTime": {
          "end_time": "2025-10-07T16:13:52.704899Z",
          "start_time": "2025-10-07T16:13:52.563494Z"
        }
      },
      "source": "# Install and import dependencies\n!pip install llama-stack-client pandas ipywidgets -q\n\nfrom llama_stack_client import LlamaStackClient\nfrom llama_stack_client.lib.agents.agent import Agent\nfrom uuid import uuid4\nimport logging\n\n# Import our demo helpers\nfrom shield_demo_helpers import (\n    ShieldMetrics,\n    show_hero_banner,\n    show_attack_surface,\n    show_result_card,\n    show_comparison_matrix,\n    show_compliance_savings,\n    create_interactive_tester,\n    TEST_PROMPTS,\n    SHIELD_CONFIG\n)\n\n# Suppress verbose logging\nlogging.getLogger(\"httpx\").setLevel(logging.WARNING)\nlogging.getLogger(\"llama_stack_client\").setLevel(logging.WARNING)\n\nprint(\"✅ Environment ready\")",
      "id": "be63b0ec0287a230",
      "outputs": [
        {
          "name": "stdout",
          "output_type": "stream",
          "text": [
            "zsh:1: command not found: pip\r\n"
          ]
        },
        {
          "ename": "ModuleNotFoundError",
          "evalue": "No module named 'llamastack_client'",
          "output_type": "error",
          "traceback": [
            "\u001b[31m---------------------------------------------------------------------------\u001b[39m",
            "\u001b[31mModuleNotFoundError\u001b[39m                       Traceback (most recent call last)",
            "\u001b[36mCell\u001b[39m\u001b[36m \u001b[39m\u001b[32mIn[2]\u001b[39m\u001b[32m, line 4\u001b[39m\n\u001b[32m      1\u001b[39m \u001b[38;5;66;03m# Install and import dependencies\u001b[39;00m\n\u001b[32m      2\u001b[39m get_ipython().system(\u001b[33m'\u001b[39m\u001b[33mpip install llama-stack-client pandas ipywidgets -q\u001b[39m\u001b[33m'\u001b[39m)\n\u001b[32m----> \u001b[39m\u001b[32m4\u001b[39m \u001b[38;5;28;01mfrom\u001b[39;00m\u001b[38;5;250m \u001b[39m\u001b[34;01mllamastack_client\u001b[39;00m\u001b[38;5;250m \u001b[39m\u001b[38;5;28;01mimport\u001b[39;00m LlamaStackClient\n\u001b[32m      5\u001b[39m \u001b[38;5;28;01mfrom\u001b[39;00m\u001b[38;5;250m \u001b[39m\u001b[34;01mllama_stack_client\u001b[39;00m\u001b[34;01m.\u001b[39;00m\u001b[34;01mlib\u001b[39;00m\u001b[34;01m.\u001b[39;00m\u001b[34;01magents\u001b[39;00m\u001b[34;01m.\u001b[39;00m\u001b[34;01magent\u001b[39;00m\u001b[38;5;250m \u001b[39m\u001b[38;5;28;01mimport\u001b[39;00m Agent\n\u001b[32m      6\u001b[39m \u001b[38;5;28;01mfrom\u001b[39;00m\u001b[38;5;250m \u001b[39m\u001b[34;01muuid\u001b[39;00m\u001b[38;5;250m \u001b[39m\u001b[38;5;28;01mimport\u001b[39;00m uuid4\n",
            "\u001b[31mModuleNotFoundError\u001b[39m: No module named 'llamastack_client'"
          ]
        }
      ],
      "execution_count": 2
    },
    {
      "cell_type": "code",
      "execution_count": null,
      "metadata": {},
      "outputs": [],
      "source": "# Show hero banner\nshow_hero_banner()",
      "id": "d74eb213912e15c8"
    },
    {
      "cell_type": "markdown",
      "metadata": {},
      "source": "## Configuration",
      "id": "25a1a3745ae543b3"
    },
    {
      "cell_type": "code",
      "execution_count": null,
      "metadata": {},
      "outputs": [],
      "source": "# Configure your deployment\nLLAMASTACK_URL = \"http://llamastack-trustyai-fms-service.summit-connect-2025.svc.cluster.local:8321\"\nMODEL_NAME = \"tinyllama-1b\"\n\n# Connect to LlamaStack\nclient = LlamaStackClient(base_url=LLAMASTACK_URL)\nmetrics = ShieldMetrics()\n\nprint(f\"✅ Connected to {LLAMASTACK_URL}\")\nprint(f\"📊 Model: {MODEL_NAME}\")",
      "id": "35fdc51a2b68cb84"
    },
    {
      "cell_type": "markdown",
      "metadata": {},
      "source": "## Part 1: The Trust Gap - Unprotected Agent",
      "id": "8205c816e0edf239"
    },
    {
      "cell_type": "code",
      "execution_count": null,
      "metadata": {},
      "outputs": [],
      "source": "show_attack_surface({'name': 'Unprotected Agent', 'input': False, 'output': False})",
      "id": "74bc28805b2ced9"
    },
    {
      "cell_type": "code",
      "execution_count": null,
      "metadata": {},
      "outputs": [],
      "source": "# Demo the trust gap\ncritical_test = TEST_PROMPTS[\"pii_multiple\"]\nprint(f\"📨 User: {critical_test['prompt'][:80]}...\\n\")\n\nresponse = client.chat.completions.create(\n    model=MODEL_NAME,\n    messages=[{\"role\": \"user\", \"content\": critical_test['prompt']}],\n    stream=False\n)\n\nshow_result_card(\n    \"PROCESSED WITHOUT VALIDATION\",\n    \"error\",\n    response.choices[0].message.content[:150] + \"...\",\n    \"⚠️ PII was processed without any checks!\"\n)",
      "id": "b1036e3b4ed28866"
    },
    {
      "cell_type": "markdown",
      "metadata": {},
      "source": "## Part 2: Register TrustyAI Shields",
      "id": "3943ef791e9c8bd1"
    },
    {
      "cell_type": "code",
      "execution_count": null,
      "metadata": {},
      "outputs": [],
      "source": "# Register the shield\ntry:\n    client.shields.register(**SHIELD_CONFIG)\n    show_result_card(\"Shield Registered\", \"allowed\", \"TrustyAI PII shield is active\")\nexcept Exception as e:\n    if \"already exists\" not in str(e).lower():\n        raise",
      "id": "6a52d706085ce90f"
    },
    {
      "cell_type": "markdown",
      "metadata": {},
      "source": "## Part 3: Input Shields",
      "id": "2b2b7a0e9d68cc6d"
    },
    {
      "cell_type": "code",
      "execution_count": null,
      "metadata": {},
      "outputs": [],
      "source": "show_attack_surface({'name': 'Input Shield Only', 'input': True, 'output': False})\n\nagent_input = Agent(\n    client,\n    model=MODEL_NAME,\n    instructions='You are a helpful customer service agent.',\n    input_shields=['pii_shield'],\n    output_shields=[],\n    enable_session_persistence=False\n)\n\nprint(\"🛡️ Agent created with input shield\")",
      "id": "67ac456ab2301efa"
    },
    {
      "cell_type": "code",
      "execution_count": null,
      "metadata": {},
      "outputs": [],
      "source": "# Test input shield\nsession = agent_input.create_session(f\"session-{uuid4()}\")\nresponse = agent_input.create_turn(\n    messages=[{\"role\": \"user\", \"content\": TEST_PROMPTS[\"pii_multiple\"][\"prompt\"]}],\n    session_id=session,\n    stream=False\n)\n\n# Show result\nfor step in response.steps:\n    if step.step_type == 'shield_call' and step.violation:\n        show_result_card(\"BLOCKED BY INPUT SHIELD\", \"blocked\", step.violation.user_message)\n        metrics.record(blocked=True)\n        break",
      "id": "bb26954811c76417"
    },
    {
      "cell_type": "markdown",
      "metadata": {},
      "source": "## Part 4: Output Shields",
      "id": "350431475ff8427b"
    },
    {
      "cell_type": "code",
      "execution_count": null,
      "metadata": {},
      "outputs": [],
      "source": "show_attack_surface({'name': 'Output Shield Only', 'input': False, 'output': True})\n\nagent_output = Agent(\n    client,\n    model=MODEL_NAME,\n    instructions='You are a helpful customer service agent.',\n    input_shields=[],\n    output_shields=['pii_shield'],\n    enable_session_persistence=False\n)\n\nprint(\"🛡️ Agent created with output shield\")",
      "id": "2ff18067e938c974"
    },
    {
      "cell_type": "markdown",
      "metadata": {},
      "source": "## Part 5: Defense-in-Depth - Both Shields",
      "id": "5d57ec58f511c7de"
    },
    {
      "cell_type": "code",
      "execution_count": null,
      "metadata": {},
      "outputs": [],
      "source": "show_attack_surface({'name': 'Both Shields (Recommended)', 'input': True, 'output': True})\n\nagent_both = Agent(\n    client,\n    model=MODEL_NAME,\n    instructions='You are a helpful customer service agent.',\n    input_shields=['pii_shield'],\n    output_shields=['pii_shield'],\n    enable_session_persistence=False\n)\n\nprint(\"🛡️🛡️ Agent created with maximum protection\")",
      "id": "692fd79d866da051"
    },
    {
      "cell_type": "markdown",
      "metadata": {},
      "source": "## Part 6: The Complete Picture",
      "id": "d45eda5670acb7b4"
    },
    {
      "cell_type": "code",
      "execution_count": null,
      "metadata": {},
      "outputs": [],
      "source": "show_comparison_matrix()",
      "id": "56959338a6bf692b"
    },
    {
      "cell_type": "markdown",
      "metadata": {},
      "source": "## Part 7: Real-World Impact",
      "id": "7b00b1c2a8c0bca4"
    },
    {
      "cell_type": "code",
      "execution_count": null,
      "metadata": {},
      "outputs": [],
      "source": "show_compliance_savings()",
      "id": "fbab9ed7bee54b8f"
    },
    {
      "cell_type": "markdown",
      "metadata": {},
      "source": "## Part 8: Try It Yourself",
      "id": "3b6deb5bef28ba0c"
    },
    {
      "cell_type": "code",
      "execution_count": null,
      "metadata": {},
      "outputs": [],
      "source": "create_interactive_tester(client)",
      "id": "da043dc8c0caf29"
    },
    {
      "cell_type": "code",
      "execution_count": null,
      "metadata": {},
      "outputs": [],
      "source": "# Final metrics\nmetrics.display()",
      "id": "76e8cddce6ecca3d"
    }
  ],
  "nbformat": 4,
  "nbformat_minor": 5,
  "metadata": {}
}